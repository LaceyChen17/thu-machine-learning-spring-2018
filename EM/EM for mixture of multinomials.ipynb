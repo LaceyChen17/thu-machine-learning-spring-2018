{
 "cells": [
  {
   "cell_type": "code",
   "execution_count": 1,
   "metadata": {
    "collapsed": true
   },
   "outputs": [],
   "source": [
    "from sklearn.datasets import fetch_20newsgroups\n",
    "from sklearn.feature_extraction.text import CountVectorizer"
   ]
  },
  {
   "cell_type": "code",
   "execution_count": 2,
   "metadata": {
    "collapsed": true,
    "scrolled": true
   },
   "outputs": [],
   "source": [
    "newsgroups_train = fetch_20newsgroups(data_home='./', subset='train', remove=('headers', 'footers', 'quotes'))\n",
    "newsgroups_test = fetch_20newsgroups(data_home='./', subset='test', remove=('headers', 'footers', 'quotes'))"
   ]
  },
  {
   "cell_type": "code",
   "execution_count": 3,
   "metadata": {
    "scrolled": true
   },
   "outputs": [
    {
     "name": "stdout",
     "output_type": "stream",
     "text": [
      "--------------------------------------------------------------------------------\n",
      "Category 0: alt.atheism\n",
      "Category 1: comp.graphics\n",
      "Category 2: comp.os.ms-windows.misc\n",
      "Category 3: comp.sys.ibm.pc.hardware\n",
      "Category 4: comp.sys.mac.hardware\n",
      "Category 5: comp.windows.x\n",
      "Category 6: misc.forsale\n",
      "Category 7: rec.autos\n",
      "Category 8: rec.motorcycles\n",
      "Category 9: rec.sport.baseball\n",
      "Category 10: rec.sport.hockey\n",
      "Category 11: sci.crypt\n",
      "Category 12: sci.electronics\n",
      "Category 13: sci.med\n",
      "Category 14: sci.space\n",
      "Category 15: soc.religion.christian\n",
      "Category 16: talk.politics.guns\n",
      "Category 17: talk.politics.mideast\n",
      "Category 18: talk.politics.misc\n",
      "Category 19: talk.religion.misc\n",
      "--------------------------------------------------------------------------------\n",
      "# of training documents: 11314\n",
      "# of test documents: 7532\n"
     ]
    }
   ],
   "source": [
    "# Data Summary\n",
    "print('-' * 80)\n",
    "for idx, cate in enumerate(newsgroups_train.target_names):\n",
    "    print('Category {}: {}'.format(idx, cate))\n",
    "print('-' * 80) \n",
    "print('# of training documents: {}'.format(len(newsgroups_train.data)))\n",
    "print('# of test documents: {}'.format(len(newsgroups_test.data)))"
   ]
  },
  {
   "cell_type": "code",
   "execution_count": 4,
   "metadata": {
    "collapsed": true
   },
   "outputs": [],
   "source": [
    "# TODO clean docs as https://github.com/stepthom/cluster_20newsgroups/blob/master/cluster_20.ipynb\n",
    "# Word Occurence Matrix \n",
    "vectorizer = CountVectorizer(strip_accents='ascii', \n",
    "                             stop_words='english',\n",
    "                             min_df=1)"
   ]
  },
  {
   "cell_type": "code",
   "execution_count": 5,
   "metadata": {
    "scrolled": true
   },
   "outputs": [
    {
     "data": {
      "text/plain": [
       "CountVectorizer(analyzer='word', binary=False, decode_error='strict',\n",
       "        dtype=<class 'numpy.int64'>, encoding='utf-8', input='content',\n",
       "        lowercase=True, max_df=1.0, max_features=None, min_df=1,\n",
       "        ngram_range=(1, 1), preprocessor=None, stop_words='english',\n",
       "        strip_accents='ascii', token_pattern='(?u)\\\\b\\\\w\\\\w+\\\\b',\n",
       "        tokenizer=None, vocabulary=None)"
      ]
     },
     "execution_count": 5,
     "metadata": {},
     "output_type": "execute_result"
    }
   ],
   "source": [
    "vectorizer.fit(newsgroups_train.data)"
   ]
  },
  {
   "cell_type": "code",
   "execution_count": 6,
   "metadata": {
    "collapsed": true
   },
   "outputs": [],
   "source": [
    "word_occur_train = vectorizer.transform(newsgroups_train.data)"
   ]
  },
  {
   "cell_type": "code",
   "execution_count": 37,
   "metadata": {},
   "outputs": [
    {
     "data": {
      "text/plain": [
       "<11314x101320 sparse matrix of type '<class 'numpy.int64'>'\n",
       "\twith 755808 stored elements in Compressed Sparse Row format>"
      ]
     },
     "execution_count": 37,
     "metadata": {},
     "output_type": "execute_result"
    }
   ],
   "source": [
    "word_occur_train"
   ]
  },
  {
   "cell_type": "code",
   "execution_count": null,
   "metadata": {
    "collapsed": true
   },
   "outputs": [],
   "source": [
    "newsg"
   ]
  }
 ],
 "metadata": {
  "kernelspec": {
   "display_name": "Python 3",
   "language": "python",
   "name": "python3"
  },
  "language_info": {
   "codemirror_mode": {
    "name": "ipython",
    "version": 3
   },
   "file_extension": ".py",
   "mimetype": "text/x-python",
   "name": "python",
   "nbconvert_exporter": "python",
   "pygments_lexer": "ipython3",
   "version": "3.6.3"
  }
 },
 "nbformat": 4,
 "nbformat_minor": 2
}
