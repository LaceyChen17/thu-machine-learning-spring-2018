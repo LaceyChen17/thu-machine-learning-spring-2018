{
 "cells": [
  {
   "cell_type": "code",
   "execution_count": 41,
   "metadata": {},
   "outputs": [],
   "source": [
    "import os\n",
    "import numpy as np\n",
    "import pandas as pd\n",
    "from matplotlib import pyplot as plt\n",
    "from sklearn.metrics import accuracy_score\n",
    "from sklearn.model_selection import train_test_split, KFold"
   ]
  },
  {
   "cell_type": "code",
   "execution_count": 2,
   "metadata": {},
   "outputs": [],
   "source": [
    "TRAIN_DATA = './a9a'\n",
    "TEST_DATA = './a9a.t'"
   ]
  },
  {
   "cell_type": "code",
   "execution_count": 3,
   "metadata": {},
   "outputs": [],
   "source": [
    "def parser(path):\n",
    "    \"\"\"Parser for the dataset\n",
    "    args:\n",
    "        path: path for train/test dataset\n",
    "    return:\n",
    "        pandas dataframe\n",
    "    \"\"\"\n",
    "    data = []\n",
    "    with open(path, 'r') as f:\n",
    "        line = f.readline()\n",
    "        while line != None and line != '':\n",
    "            sample = dict()\n",
    "            line = line.split()\n",
    "            sample['label'] = int(line[0])\n",
    "            for feat in line[1:]:\n",
    "                feat_id, feat_value = feat.split(':')\n",
    "                sample[feat_id] = float(feat_value)  \n",
    "            data.append(sample)\n",
    "            line = f.readline()\n",
    "    data = pd.DataFrame(data).fillna(0)\n",
    "    return data"
   ]
  },
  {
   "cell_type": "code",
   "execution_count": 4,
   "metadata": {},
   "outputs": [],
   "source": [
    "train = parser(TRAIN_DATA)\n",
    "test = parser(TEST_DATA)"
   ]
  },
  {
   "cell_type": "code",
   "execution_count": 5,
   "metadata": {},
   "outputs": [],
   "source": [
    "train_cols = train.columns.values.tolist()\n",
    "test_cols = test.columns.values.tolist()"
   ]
  },
  {
   "cell_type": "code",
   "execution_count": 6,
   "metadata": {
    "scrolled": true
   },
   "outputs": [
    {
     "name": "stdout",
     "output_type": "stream",
     "text": [
      "Difference between train and test: {'123'}\n"
     ]
    }
   ],
   "source": [
    "print('Difference between train and test: {}'.format(set(train_cols) - set(test_cols)))"
   ]
  },
  {
   "cell_type": "code",
   "execution_count": 7,
   "metadata": {},
   "outputs": [],
   "source": [
    "test['123'] = 0 # impute missing data \n",
    "train['intercept'] = 1 # add a dim for intercept \n",
    "test['intercept'] = 1 # add a dim for intercept "
   ]
  },
  {
   "cell_type": "code",
   "execution_count": 8,
   "metadata": {},
   "outputs": [],
   "source": [
    "test = test[train.columns] # enusure the corresponding columns "
   ]
  },
  {
   "cell_type": "code",
   "execution_count": 9,
   "metadata": {},
   "outputs": [],
   "source": [
    "train.loc[train.label == -1, 'label'] = 0\n",
    "test.loc[test.label == -1, 'label'] = 0"
   ]
  },
  {
   "cell_type": "code",
   "execution_count": 10,
   "metadata": {},
   "outputs": [
    {
     "name": "stdout",
     "output_type": "stream",
     "text": [
      "Features:  ['1', '10', '100', '101', '102', '103', '104', '105', '106', '107', '108', '109', '11', '110', '111', '112', '113', '114', '115', '116', '117', '118', '119', '12', '120', '121', '122', '123', '13', '14', '15', '16', '17', '18', '19', '2', '20', '21', '22', '23', '24', '25', '26', '27', '28', '29', '3', '30', '31', '32', '33', '34', '35', '36', '37', '38', '39', '4', '40', '41', '42', '43', '44', '45', '46', '47', '48', '49', '5', '50', '51', '52', '53', '54', '55', '56', '57', '58', '59', '6', '60', '61', '62', '63', '64', '65', '66', '67', '68', '69', '7', '70', '71', '72', '73', '74', '75', '76', '77', '78', '79', '8', '80', '81', '82', '83', '84', '85', '86', '87', '88', '89', '9', '90', '91', '92', '93', '94', '95', '96', '97', '98', '99', 'intercept']\n"
     ]
    }
   ],
   "source": [
    "feat_cols = train.columns.tolist()\n",
    "feat_cols.remove('label')\n",
    "print('Features: ', feat_cols)"
   ]
  },
  {
   "cell_type": "code",
   "execution_count": 31,
   "metadata": {},
   "outputs": [
    {
     "name": "stdout",
     "output_type": "stream",
     "text": [
      "27\n"
     ]
    }
   ],
   "source": [
    "for idx, feat in enumerate(feat_cols):\n",
    "    if feat == '123':\n",
    "        print(idx)"
   ]
  },
  {
   "cell_type": "code",
   "execution_count": 11,
   "metadata": {},
   "outputs": [],
   "source": [
    "def sigmoid(x):\n",
    "    \"\"\"numerically stable sigmoid\"\"\"\n",
    "    return np.exp(-np.logaddexp(0, -x))"
   ]
  },
  {
   "cell_type": "code",
   "execution_count": 16,
   "metadata": {},
   "outputs": [],
   "source": [
    "class IRLS4LR(object):\n",
    "    def __init__(self, max_iter=1e3, tol=1e-3, l2_penalty=False):\n",
    "        \"\"\"the iteration will stop when ``max{|delta_i | i = 1, ..., n} <= tol``\n",
    "        where ``delta_i`` is the i-th component of the delta w.\"\"\"\n",
    "        self.weight = None\n",
    "        self.l2_norms = []\n",
    "        self.train_accs= []\n",
    "        self.test_accs = []\n",
    "        self.num_iteration = 0\n",
    "        self.max_iter = max_iter\n",
    "        self.tol = tol\n",
    "        self.l2_penalty = l2_penalty\n",
    "        \n",
    "    def fit(self, X, y, X_test, y_test):\n",
    "        \"\"\"Fit lr model on (X, y) and evaluate on (X_test, y_test)\"\"\"\n",
    "        num_samples, num_features = X.shape\n",
    "        converged = False\n",
    "        self.l2_norms = []\n",
    "        self.train_accs = []\n",
    "        self.test_accs = []\n",
    "        self.num_iteration = 0\n",
    "        self.weight = np.zeros(num_features)\n",
    "        while not converged:\n",
    "            self.num_iteration += 1\n",
    "            mu = self.predict(X)[0]\n",
    "            R = np.diag(np.multiply(mu, (1 - mu)))\n",
    "            H = np.matmul(np.matmul(X.transpose(), R), X)\n",
    "            g = np.matmul(X.transpose(), mu - y)\n",
    "            if self.l2_penalty:\n",
    "                H = H + self.l2_penalty * np.identity(H.shape[0])\n",
    "                g = g + self.l2_penalty * self.weight\n",
    "            delta = - np.matmul(np.linalg.pinv(H), g) # psuedo inverse for singular matrices\n",
    "            self.weight += delta\n",
    "            \n",
    "            # evaluate\n",
    "            y_pred = self.predict(X)[1]\n",
    "            y_test_pred = self.predict(X_test)[1]\n",
    "            self.l2_norms.append(np.linalg.norm(self.weight))\n",
    "            self.train_accs.append(accuracy_score(y, y_pred))\n",
    "            self.test_accs.append(accuracy_score(y_test, y_test_pred))\n",
    "            print('Iteration {}: Train Accuracy {}, Test Accuracy {}'.format(self.num_iteration, \n",
    "                                                                             self.train_accs[-1],\n",
    "                                                                             self.test_accs[-1]))\n",
    "            if np.linalg.norm(delta) < self.tol or self.num_iteration > self.max_iter:\n",
    "                converged = True\n",
    "                \n",
    "    def predict(self, X):\n",
    "        mu = sigmoid(np.matmul(X, self.weight))\n",
    "        y_pred = np.zeros_like(mu)\n",
    "        y_pred[mu > 0.5] = 1\n",
    "        return mu, y_pred"
   ]
  },
  {
   "cell_type": "code",
   "execution_count": 17,
   "metadata": {},
   "outputs": [],
   "source": [
    "solver = IRLS4LR()"
   ]
  },
  {
   "cell_type": "code",
   "execution_count": 18,
   "metadata": {
    "scrolled": false
   },
   "outputs": [
    {
     "name": "stdout",
     "output_type": "stream",
     "text": [
      "Train (32561, 124), Test (16281, 124)\n"
     ]
    }
   ],
   "source": [
    "X_train = train.loc[:, feat_cols].values\n",
    "y_train = train['label'].values\n",
    "X_test = test.loc[:, feat_cols].values\n",
    "y_test = test['label'].values\n",
    "print('Train {}, Test {}'.format(X_train.shape, X_test.shape))"
   ]
  },
  {
   "cell_type": "code",
   "execution_count": 40,
   "metadata": {},
   "outputs": [
    {
     "data": {
      "text/plain": [
       "1.6281"
      ]
     },
     "execution_count": 40,
     "metadata": {},
     "output_type": "execute_result"
    }
   ],
   "source": [
    "16281 * 0.0001"
   ]
  },
  {
   "cell_type": "code",
   "execution_count": 19,
   "metadata": {
    "scrolled": false
   },
   "outputs": [
    {
     "name": "stdout",
     "output_type": "stream",
     "text": [
      "Iteration 1: Train Accuracy 0.8452750222659009, Test Accuracy 0.8452797739696579\n",
      "Iteration 2: Train Accuracy 0.8481619114892048, Test Accuracy 0.8481665745347338\n",
      "Iteration 3: Train Accuracy 0.8494517981634471, Test Accuracy 0.8493950003071065\n",
      "Iteration 4: Train Accuracy 0.8493289518135192, Test Accuracy 0.849640685461581\n",
      "Iteration 5: Train Accuracy 0.8491139707011456, Test Accuracy 0.8499477919046742\n",
      "Iteration 6: Train Accuracy 0.8491446822886275, Test Accuracy 0.8499477919046742\n",
      "Iteration 7: Train Accuracy 0.8491446822886275, Test Accuracy 0.8499477919046742\n",
      "Iteration 8: Train Accuracy 0.8491446822886275, Test Accuracy 0.8499477919046742\n",
      "Iteration 9: Train Accuracy 0.8491446822886275, Test Accuracy 0.8499477919046742\n",
      "Iteration 10: Train Accuracy 0.8491446822886275, Test Accuracy 0.8499477919046742\n",
      "Iteration 11: Train Accuracy 0.8491446822886275, Test Accuracy 0.8499477919046742\n",
      "Iteration 12: Train Accuracy 0.8491446822886275, Test Accuracy 0.8499477919046742\n",
      "Iteration 13: Train Accuracy 0.8491446822886275, Test Accuracy 0.8499477919046742\n",
      "Iteration 14: Train Accuracy 0.8491446822886275, Test Accuracy 0.8499477919046742\n",
      "Iteration 15: Train Accuracy 0.8491446822886275, Test Accuracy 0.8499477919046742\n",
      "Iteration 16: Train Accuracy 0.8491446822886275, Test Accuracy 0.8499477919046742\n",
      "Iteration 17: Train Accuracy 0.8491446822886275, Test Accuracy 0.8499477919046742\n",
      "Iteration 18: Train Accuracy 0.8491446822886275, Test Accuracy 0.8499477919046742\n",
      "Iteration 19: Train Accuracy 0.8491446822886275, Test Accuracy 0.8499477919046742\n",
      "Iteration 20: Train Accuracy 0.8491446822886275, Test Accuracy 0.8499477919046742\n",
      "Iteration 21: Train Accuracy 0.8491446822886275, Test Accuracy 0.8499477919046742\n",
      "Iteration 22: Train Accuracy 0.8491446822886275, Test Accuracy 0.8499477919046742\n",
      "Iteration 23: Train Accuracy 0.8491446822886275, Test Accuracy 0.8499477919046742\n",
      "Iteration 24: Train Accuracy 0.8491446822886275, Test Accuracy 0.8499477919046742\n",
      "Iteration 25: Train Accuracy 0.8491446822886275, Test Accuracy 0.8499477919046742\n",
      "Iteration 26: Train Accuracy 0.8491446822886275, Test Accuracy 0.8499477919046742\n",
      "Iteration 27: Train Accuracy 0.8491446822886275, Test Accuracy 0.8499477919046742\n",
      "Iteration 28: Train Accuracy 0.8491446822886275, Test Accuracy 0.8499477919046742\n",
      "Iteration 29: Train Accuracy 0.8491446822886275, Test Accuracy 0.8499477919046742\n"
     ]
    }
   ],
   "source": [
    "solver.fit(X_train, y_train, X_test, y_test)"
   ]
  },
  {
   "cell_type": "code",
   "execution_count": 35,
   "metadata": {},
   "outputs": [
    {
     "data": {
      "text/plain": [
       "53.91309376972329"
      ]
     },
     "execution_count": 35,
     "metadata": {},
     "output_type": "execute_result"
    }
   ],
   "source": [
    "solver.l2_norms[-1]"
   ]
  },
  {
   "cell_type": "code",
   "execution_count": 20,
   "metadata": {},
   "outputs": [],
   "source": [
    "def cv(X, y, n_fold=5, l2_penalty=0.01):\n",
    "    \"\"\"Run K fold cross validation of LR\n",
    "    return:\n",
    "        cv_train_acc, cv_test_acc\n",
    "    \"\"\"\n",
    "    kf = KFold(n_splits=n_fold)\n",
    "    cv_train_accs, cv_test_accs = [], []\n",
    "    for idx, (cv_train, cv_test) in enumerate(kf.split(X)):\n",
    "        print('CV Fold {}'.format(idx))\n",
    "        X_train, y_train = X[cv_train, :], y[cv_train]\n",
    "        X_test, y_test = X[cv_test, :], y[cv_test]\n",
    "        solver = IRLS4LR(l2_penalty = l2_penalty)\n",
    "        solver.fit(X_train, y_train, X_test, y_test)\n",
    "        cv_train_accs.append(solver.train_accs[-1])\n",
    "        cv_test_accs.append(solver.test_accs[-1])\n",
    "    return np.mean(cv_train_accs), np.mean(cv_test_accs)"
   ]
  },
  {
   "cell_type": "code",
   "execution_count": 21,
   "metadata": {},
   "outputs": [
    {
     "name": "stdout",
     "output_type": "stream",
     "text": [
      "CV Fold 0\n",
      "Iteration 1: Train Accuracy 0.8467444717444718, Test Accuracy 0.841087056655919\n",
      "Iteration 2: Train Accuracy 0.8495085995085995, Test Accuracy 0.8440042990941194\n",
      "Iteration 3: Train Accuracy 0.8511210073710074, Test Accuracy 0.8440042990941194\n",
      "Iteration 4: Train Accuracy 0.851044226044226, Test Accuracy 0.844311377245509\n",
      "Iteration 5: Train Accuracy 0.8507371007371007, Test Accuracy 0.8453861507753724\n",
      "Iteration 6: Train Accuracy 0.8506603194103194, Test Accuracy 0.8455396898510671\n",
      "Iteration 7: Train Accuracy 0.8506603194103194, Test Accuracy 0.8455396898510671\n",
      "Iteration 8: Train Accuracy 0.8506603194103194, Test Accuracy 0.8455396898510671\n",
      "Iteration 9: Train Accuracy 0.8506603194103194, Test Accuracy 0.8455396898510671\n",
      "Iteration 10: Train Accuracy 0.8506603194103194, Test Accuracy 0.8455396898510671\n",
      "CV Fold 1\n",
      "Iteration 1: Train Accuracy 0.8454067334638565, Test Accuracy 0.8452088452088452\n",
      "Iteration 2: Train Accuracy 0.8474797497024837, Test Accuracy 0.847972972972973\n",
      "Iteration 3: Train Accuracy 0.8496295443203195, Test Accuracy 0.847512285012285\n",
      "Iteration 4: Train Accuracy 0.850282160543591, Test Accuracy 0.8488943488943489\n",
      "Iteration 5: Train Accuracy 0.8502437713539868, Test Accuracy 0.8476658476658476\n",
      "Iteration 6: Train Accuracy 0.8501669929747783, Test Accuracy 0.8476658476658476\n",
      "Iteration 7: Train Accuracy 0.8501669929747783, Test Accuracy 0.8476658476658476\n",
      "Iteration 8: Train Accuracy 0.8501669929747783, Test Accuracy 0.8476658476658476\n",
      "Iteration 9: Train Accuracy 0.8501669929747783, Test Accuracy 0.8476658476658476\n",
      "Iteration 10: Train Accuracy 0.8501669929747783, Test Accuracy 0.8476658476658476\n",
      "CV Fold 2\n",
      "Iteration 1: Train Accuracy 0.8448308956197935, Test Accuracy 0.8488943488943489\n",
      "Iteration 2: Train Accuracy 0.8479020307881301, Test Accuracy 0.847512285012285\n",
      "Iteration 3: Train Accuracy 0.8491304848554647, Test Accuracy 0.8496621621621622\n",
      "Iteration 4: Train Accuracy 0.849744711889132, Test Accuracy 0.8488943488943489\n",
      "Iteration 5: Train Accuracy 0.8492840416138815, Test Accuracy 0.8495085995085995\n",
      "Iteration 6: Train Accuracy 0.84936081999309, Test Accuracy 0.8496621621621622\n",
      "Iteration 7: Train Accuracy 0.84936081999309, Test Accuracy 0.8496621621621622\n",
      "Iteration 8: Train Accuracy 0.84936081999309, Test Accuracy 0.8496621621621622\n",
      "Iteration 9: Train Accuracy 0.84936081999309, Test Accuracy 0.8496621621621622\n",
      "Iteration 10: Train Accuracy 0.84936081999309, Test Accuracy 0.8496621621621622\n",
      "CV Fold 3\n",
      "Iteration 1: Train Accuracy 0.8448692848093977, Test Accuracy 0.8424447174447175\n",
      "Iteration 2: Train Accuracy 0.8483627010633805, Test Accuracy 0.8452088452088452\n",
      "Iteration 3: Train Accuracy 0.8489001497178394, Test Accuracy 0.8461302211302212\n",
      "Iteration 4: Train Accuracy 0.8492072632346731, Test Accuracy 0.8473587223587223\n",
      "Iteration 5: Train Accuracy 0.8491304848554647, Test Accuracy 0.8476658476658476\n",
      "Iteration 6: Train Accuracy 0.8490537064762563, Test Accuracy 0.8476658476658476\n",
      "Iteration 7: Train Accuracy 0.8490537064762563, Test Accuracy 0.8476658476658476\n",
      "Iteration 8: Train Accuracy 0.8490537064762563, Test Accuracy 0.8476658476658476\n",
      "Iteration 9: Train Accuracy 0.8490537064762563, Test Accuracy 0.8476658476658476\n",
      "Iteration 10: Train Accuracy 0.8490537064762563, Test Accuracy 0.8476658476658476\n",
      "CV Fold 4\n",
      "Iteration 1: Train Accuracy 0.8465584091519828, Test Accuracy 0.8430589680589681\n",
      "Iteration 2: Train Accuracy 0.8489001497178394, Test Accuracy 0.8481265356265356\n",
      "Iteration 3: Train Accuracy 0.8489385389074436, Test Accuracy 0.8492014742014742\n",
      "Iteration 4: Train Accuracy 0.8488233713386311, Test Accuracy 0.8490479115479116\n",
      "Iteration 5: Train Accuracy 0.8488617605282353, Test Accuracy 0.8485872235872236\n",
      "Iteration 6: Train Accuracy 0.8488617605282353, Test Accuracy 0.8487407862407862\n",
      "Iteration 7: Train Accuracy 0.8488617605282353, Test Accuracy 0.8487407862407862\n",
      "Iteration 8: Train Accuracy 0.8488617605282353, Test Accuracy 0.8487407862407862\n",
      "Iteration 9: Train Accuracy 0.8488617605282353, Test Accuracy 0.8487407862407862\n",
      "Iteration 10: Train Accuracy 0.8488617605282353, Test Accuracy 0.8487407862407862\n",
      "Iteration 11: Train Accuracy 0.8488617605282353, Test Accuracy 0.8487407862407862\n",
      "l2_penalty=0.01: cv train acc 0.8496207198765358, cv test acc 0.8478548667171422\n",
      "CV Fold 0\n",
      "Iteration 1: Train Accuracy 0.8467828624078624, Test Accuracy 0.841087056655919\n",
      "Iteration 2: Train Accuracy 0.8495469901719902, Test Accuracy 0.8440042990941194\n",
      "Iteration 3: Train Accuracy 0.8511977886977887, Test Accuracy 0.8444649163212038\n",
      "Iteration 4: Train Accuracy 0.8510058353808354, Test Accuracy 0.8444649163212038\n",
      "Iteration 5: Train Accuracy 0.8507754914004914, Test Accuracy 0.8455396898510671\n",
      "Iteration 6: Train Accuracy 0.8507371007371007, Test Accuracy 0.8456932289267619\n",
      "Iteration 7: Train Accuracy 0.8507371007371007, Test Accuracy 0.8456932289267619\n",
      "Iteration 8: Train Accuracy 0.8507371007371007, Test Accuracy 0.8456932289267619\n",
      "CV Fold 1\n",
      "Iteration 1: Train Accuracy 0.8453683442742523, Test Accuracy 0.8452088452088452\n",
      "Iteration 2: Train Accuracy 0.8474029713232754, Test Accuracy 0.8481265356265356\n",
      "Iteration 3: Train Accuracy 0.8496295443203195, Test Accuracy 0.847512285012285\n",
      "Iteration 4: Train Accuracy 0.8502053821643825, Test Accuracy 0.8487407862407862\n",
      "Iteration 5: Train Accuracy 0.8502437713539868, Test Accuracy 0.8476658476658476\n",
      "Iteration 6: Train Accuracy 0.8504357173020077, Test Accuracy 0.8476658476658476\n",
      "Iteration 7: Train Accuracy 0.8504357173020077, Test Accuracy 0.8476658476658476\n",
      "Iteration 8: Train Accuracy 0.8504357173020077, Test Accuracy 0.8476658476658476\n",
      "CV Fold 2\n",
      "Iteration 1: Train Accuracy 0.8448692848093977, Test Accuracy 0.8488943488943489\n",
      "Iteration 2: Train Accuracy 0.8479020307881301, Test Accuracy 0.8476658476658476\n",
      "Iteration 3: Train Accuracy 0.8490920956658605, Test Accuracy 0.8496621621621622\n",
      "Iteration 4: Train Accuracy 0.8496295443203195, Test Accuracy 0.8487407862407862\n",
      "Iteration 5: Train Accuracy 0.8493992091826942, Test Accuracy 0.8495085995085995\n",
      "Iteration 6: Train Accuracy 0.8494375983722984, Test Accuracy 0.8496621621621622\n",
      "Iteration 7: Train Accuracy 0.8494375983722984, Test Accuracy 0.8496621621621622\n",
      "Iteration 8: Train Accuracy 0.8494375983722984, Test Accuracy 0.8496621621621622\n",
      "CV Fold 3\n",
      "Iteration 1: Train Accuracy 0.8449460631886061, Test Accuracy 0.8425982800982801\n",
      "Iteration 2: Train Accuracy 0.8483243118737763, Test Accuracy 0.8452088452088452\n",
      "Iteration 3: Train Accuracy 0.8488617605282353, Test Accuracy 0.8459766584766585\n",
      "Iteration 4: Train Accuracy 0.8492456524242773, Test Accuracy 0.8476658476658476\n",
      "Iteration 5: Train Accuracy 0.8491688740450689, Test Accuracy 0.847972972972973\n",
      "Iteration 6: Train Accuracy 0.8490920956658605, Test Accuracy 0.847972972972973\n",
      "Iteration 7: Train Accuracy 0.8490920956658605, Test Accuracy 0.847972972972973\n",
      "Iteration 8: Train Accuracy 0.8490920956658605, Test Accuracy 0.847972972972973\n",
      "CV Fold 4\n",
      "Iteration 1: Train Accuracy 0.8465200199623786, Test Accuracy 0.8429054054054054\n",
      "Iteration 2: Train Accuracy 0.8488233713386311, Test Accuracy 0.8478194103194103\n",
      "Iteration 3: Train Accuracy 0.8489769280970478, Test Accuracy 0.8492014742014742\n",
      "Iteration 4: Train Accuracy 0.849015317286652, Test Accuracy 0.8488943488943489\n",
      "Iteration 5: Train Accuracy 0.8489385389074436, Test Accuracy 0.8487407862407862\n",
      "Iteration 6: Train Accuracy 0.8489385389074436, Test Accuracy 0.8488943488943489\n",
      "Iteration 7: Train Accuracy 0.8489385389074436, Test Accuracy 0.8488943488943489\n",
      "Iteration 8: Train Accuracy 0.8489385389074436, Test Accuracy 0.8488943488943489\n",
      "Iteration 9: Train Accuracy 0.8489385389074436, Test Accuracy 0.8488943488943489\n",
      "l2_penalty=0.1: cv train acc 0.8497282101969421, cv test acc 0.8479777121244186\n",
      "CV Fold 0\n",
      "Iteration 1: Train Accuracy 0.8467444717444718, Test Accuracy 0.841701212958698\n",
      "Iteration 2: Train Accuracy 0.8495853808353808, Test Accuracy 0.844311377245509\n",
      "Iteration 3: Train Accuracy 0.8506987100737101, Test Accuracy 0.8441578381698143\n",
      "Iteration 4: Train Accuracy 0.8508522727272727, Test Accuracy 0.8450790726239829\n",
      "Iteration 5: Train Accuracy 0.8506603194103194, Test Accuracy 0.8456932289267619\n",
      "Iteration 6: Train Accuracy 0.850583538083538, Test Accuracy 0.8456932289267619\n",
      "Iteration 7: Train Accuracy 0.850583538083538, Test Accuracy 0.8456932289267619\n",
      "CV Fold 1\n"
     ]
    },
    {
     "name": "stdout",
     "output_type": "stream",
     "text": [
      "Iteration 1: Train Accuracy 0.8451380091366272, Test Accuracy 0.8453624078624079\n",
      "Iteration 2: Train Accuracy 0.8472878037544628, Test Accuracy 0.8482800982800983\n",
      "Iteration 3: Train Accuracy 0.8493992091826942, Test Accuracy 0.8481265356265356\n",
      "Iteration 4: Train Accuracy 0.8502437713539868, Test Accuracy 0.8482800982800983\n",
      "Iteration 5: Train Accuracy 0.8503589389227993, Test Accuracy 0.847051597051597\n",
      "Iteration 6: Train Accuracy 0.8503973281124035, Test Accuracy 0.847051597051597\n",
      "Iteration 7: Train Accuracy 0.8503973281124035, Test Accuracy 0.847051597051597\n",
      "CV Fold 2\n",
      "Iteration 1: Train Accuracy 0.8449076739990019, Test Accuracy 0.8493550368550369\n",
      "Iteration 2: Train Accuracy 0.8477868632193174, Test Accuracy 0.847512285012285\n",
      "Iteration 3: Train Accuracy 0.8487849821490269, Test Accuracy 0.8490479115479116\n",
      "Iteration 4: Train Accuracy 0.8492456524242773, Test Accuracy 0.8495085995085995\n",
      "Iteration 5: Train Accuracy 0.8491304848554647, Test Accuracy 0.8490479115479116\n",
      "Iteration 6: Train Accuracy 0.8491688740450689, Test Accuracy 0.8490479115479116\n",
      "Iteration 7: Train Accuracy 0.8491688740450689, Test Accuracy 0.8490479115479116\n",
      "Iteration 8: Train Accuracy 0.8491688740450689, Test Accuracy 0.8490479115479116\n",
      "CV Fold 3\n",
      "Iteration 1: Train Accuracy 0.8448308956197935, Test Accuracy 0.8427518427518428\n",
      "Iteration 2: Train Accuracy 0.8479788091673385, Test Accuracy 0.8453624078624079\n",
      "Iteration 3: Train Accuracy 0.8489385389074436, Test Accuracy 0.8464373464373465\n",
      "Iteration 4: Train Accuracy 0.8491304848554647, Test Accuracy 0.847972972972973\n",
      "Iteration 5: Train Accuracy 0.8489385389074436, Test Accuracy 0.8481265356265356\n",
      "Iteration 6: Train Accuracy 0.8488617605282353, Test Accuracy 0.8481265356265356\n",
      "Iteration 7: Train Accuracy 0.8488617605282353, Test Accuracy 0.8481265356265356\n",
      "CV Fold 4\n",
      "Iteration 1: Train Accuracy 0.8462512956351491, Test Accuracy 0.8427518427518428\n",
      "Iteration 2: Train Accuracy 0.8488617605282353, Test Accuracy 0.8476658476658476\n",
      "Iteration 3: Train Accuracy 0.8483627010633805, Test Accuracy 0.8485872235872236\n",
      "Iteration 4: Train Accuracy 0.8486698145802142, Test Accuracy 0.8492014742014742\n",
      "Iteration 5: Train Accuracy 0.8486698145802142, Test Accuracy 0.8490479115479116\n",
      "Iteration 6: Train Accuracy 0.84863142539061, Test Accuracy 0.8492014742014742\n",
      "Iteration 7: Train Accuracy 0.84863142539061, Test Accuracy 0.8492014742014742\n",
      "l2_penalty=1: cv train acc 0.8495285852319711, cv test acc 0.847824149470856\n",
      "CV Fold 0\n",
      "Iteration 1: Train Accuracy 0.8455927518427518, Test Accuracy 0.8412405957316137\n",
      "Iteration 2: Train Accuracy 0.8490863022113022, Test Accuracy 0.8438507600184247\n",
      "Iteration 3: Train Accuracy 0.8497389434889435, Test Accuracy 0.844925533548288\n",
      "Iteration 4: Train Accuracy 0.8503915847665847, Test Accuracy 0.8441578381698143\n",
      "Iteration 5: Train Accuracy 0.8503531941031941, Test Accuracy 0.844311377245509\n",
      "Iteration 6: Train Accuracy 0.8503531941031941, Test Accuracy 0.8441578381698143\n",
      "Iteration 7: Train Accuracy 0.8503531941031941, Test Accuracy 0.8441578381698143\n",
      "CV Fold 1\n",
      "Iteration 1: Train Accuracy 0.8443318361549388, Test Accuracy 0.8452088452088452\n",
      "Iteration 2: Train Accuracy 0.846788744289608, Test Accuracy 0.8487407862407862\n",
      "Iteration 3: Train Accuracy 0.848439479442589, Test Accuracy 0.8478194103194103\n",
      "Iteration 4: Train Accuracy 0.84936081999309, Test Accuracy 0.8478194103194103\n",
      "Iteration 5: Train Accuracy 0.8493224308034857, Test Accuracy 0.847051597051597\n",
      "Iteration 6: Train Accuracy 0.8492840416138815, Test Accuracy 0.8472051597051597\n",
      "Iteration 7: Train Accuracy 0.8492840416138815, Test Accuracy 0.8472051597051597\n",
      "CV Fold 2\n",
      "Iteration 1: Train Accuracy 0.844370225344543, Test Accuracy 0.847972972972973\n",
      "Iteration 2: Train Accuracy 0.8471726361856501, Test Accuracy 0.8472051597051597\n",
      "Iteration 3: Train Accuracy 0.8485930362010058, Test Accuracy 0.8481265356265356\n",
      "Iteration 4: Train Accuracy 0.8482859226841721, Test Accuracy 0.8490479115479116\n",
      "Iteration 5: Train Accuracy 0.8481323659257554, Test Accuracy 0.8488943488943489\n",
      "Iteration 6: Train Accuracy 0.8480939767361511, Test Accuracy 0.8490479115479116\n",
      "Iteration 7: Train Accuracy 0.8480939767361511, Test Accuracy 0.8490479115479116\n",
      "CV Fold 3\n",
      "Iteration 1: Train Accuracy 0.8448308956197935, Test Accuracy 0.8425982800982801\n",
      "Iteration 2: Train Accuracy 0.847710084840109, Test Accuracy 0.8442874692874693\n",
      "Iteration 3: Train Accuracy 0.8481323659257554, Test Accuracy 0.8458230958230958\n",
      "Iteration 4: Train Accuracy 0.8479404199777343, Test Accuracy 0.8485872235872236\n",
      "Iteration 5: Train Accuracy 0.8479404199777343, Test Accuracy 0.8487407862407862\n",
      "Iteration 6: Train Accuracy 0.8479404199777343, Test Accuracy 0.8485872235872236\n",
      "Iteration 7: Train Accuracy 0.8479404199777343, Test Accuracy 0.8485872235872236\n",
      "CV Fold 4\n",
      "Iteration 1: Train Accuracy 0.8454067334638565, Test Accuracy 0.8432125307125307\n",
      "Iteration 2: Train Accuracy 0.8479788091673385, Test Accuracy 0.8478194103194103\n",
      "Iteration 3: Train Accuracy 0.8480939767361511, Test Accuracy 0.8487407862407862\n",
      "Iteration 4: Train Accuracy 0.8480939767361511, Test Accuracy 0.8481265356265356\n",
      "Iteration 5: Train Accuracy 0.8478252524089216, Test Accuracy 0.8476658476658476\n",
      "Iteration 6: Train Accuracy 0.8477868632193174, Test Accuracy 0.8476658476658476\n",
      "Iteration 7: Train Accuracy 0.8477868632193174, Test Accuracy 0.8476658476658476\n",
      "l2_penalty=10: cv train acc 0.8486916991300557, cv test acc 0.8473327961351913\n"
     ]
    }
   ],
   "source": [
    "for l2_penalty in [0.01, 0.1, 1, 10]:\n",
    "    cv_train_acc, cv_test_acc = cv(X_train, y_train, l2_penalty=l2_penalty)\n",
    "    print('l2_penalty={}: cv train acc {}, cv test acc {}'.format(l2_penalty, cv_train_acc, cv_test_acc))"
   ]
  },
  {
   "cell_type": "code",
   "execution_count": 22,
   "metadata": {
    "scrolled": false
   },
   "outputs": [
    {
     "name": "stdout",
     "output_type": "stream",
     "text": [
      "Iteration 1: Train Accuracy 0.8453057338533829, Test Accuracy 0.8453411952582766\n",
      "Iteration 2: Train Accuracy 0.8482233346641688, Test Accuracy 0.8481665745347338\n",
      "Iteration 3: Train Accuracy 0.849513221338411, Test Accuracy 0.8493950003071065\n",
      "Iteration 4: Train Accuracy 0.8493596634010012, Test Accuracy 0.8497635280388183\n",
      "Iteration 5: Train Accuracy 0.8490832591136636, Test Accuracy 0.8499477919046742\n",
      "Iteration 6: Train Accuracy 0.8491139707011456, Test Accuracy 0.8498863706160555\n",
      "Iteration 7: Train Accuracy 0.8491139707011456, Test Accuracy 0.8498863706160555\n",
      "Iteration 8: Train Accuracy 0.8491139707011456, Test Accuracy 0.8498863706160555\n"
     ]
    }
   ],
   "source": [
    "l2_solver = IRLS4LR(l2_penalty=0.1)\n",
    "l2_solver.fit(X_train, y_train, X_test, y_test)"
   ]
  },
  {
   "cell_type": "code",
   "execution_count": 34,
   "metadata": {},
   "outputs": [
    {
     "data": {
      "text/plain": [
       "-20.597460608945966"
      ]
     },
     "execution_count": 34,
     "metadata": {},
     "output_type": "execute_result"
    }
   ],
   "source": [
    "solver.weight[27]"
   ]
  },
  {
   "cell_type": "code",
   "execution_count": 36,
   "metadata": {},
   "outputs": [
    {
     "data": {
      "text/plain": [
       "7.906510023186412"
      ]
     },
     "execution_count": 36,
     "metadata": {},
     "output_type": "execute_result"
    }
   ],
   "source": [
    "l2_solver.l2_norms[-1]"
   ]
  },
  {
   "cell_type": "code",
   "execution_count": null,
   "metadata": {},
   "outputs": [],
   "source": [
    " l2_penalty=100: cv train acc 0.8451061134501477, cv test acc 0.844415148157663\n",
    " l2_penalty=10: cv train acc 0.8486916991300557, cv test acc 0.8473327961351913\n",
    " l2_penalty=1: cv train acc 0.8495285852319711, cv test acc 0.847824149470856\n",
    " l2_penalty=0.8: cv train acc 0.8496283985987286, cv test acc 0.8478241447552826\n",
    " l2_penalty=0.6: cv train acc 0.8496591105399265, cv test acc 0.8479162823474201\n",
    " l2_penalty=0.4: cv train acc 0.8497819568309319, cv test acc 0.8478855698167076\n",
    " l2_penalty=0.2: cv train acc 0.8497742775192245, cv test acc 0.8479777121244186\n",
    " l2_penalty=0.1: cv train acc 0.8497282101969421, cv test acc 0.8479777121244186\n",
    " l2_penalty=0.06: cv train acc 0.849720532064264, cv test acc 0.8479469995937061\n",
    " l2_penalty=0.04: cv train acc 0.8496974985505015, cv test acc 0.8478855792478546   \n",
    " l2_penalty=0.02: cv train acc 0.8496207198765358, cv test acc 0.8478548667171422\n",
    " l2_penalty=0.01: cv train acc 0.8496207198765358, cv test acc 0.8478548667171422\n",
    " l2_penalty=0.001: cv train acc 0.8496283977144566, cv test acc 0.8478241589020034\n",
    "  "
   ]
  },
  {
   "cell_type": "code",
   "execution_count": 75,
   "metadata": {},
   "outputs": [
    {
     "data": {
      "text/plain": [
       "Text(0,0.5,'test accuracy')"
      ]
     },
     "execution_count": 75,
     "metadata": {},
     "output_type": "execute_result"
    }
   ],
   "source": [
    "plt.plot(solver.test_accs, 'b^', label='LR')\n",
    "plt.plot(l2_solver.test_accs, 'r^', label='L2 regularized LR')\n",
    "plt.xlabel('num of iterations')\n",
    "plt.ylabel('test accuracy')"
   ]
  },
  {
   "cell_type": "code",
   "execution_count": 76,
   "metadata": {},
   "outputs": [
    {
     "data": {
      "image/png": "[encoded data removed]",
      "text/plain": [
       "<matplotlib.figure.Figure at 0x7f9eb3445048>"
      ]
     },
     "metadata": {},
     "output_type": "display_data"
    }
   ],
   "source": [
    "plt.legend()\n",
    "plt.show()"
   ]
  },
  {
   "cell_type": "code",
   "execution_count": 72,
   "metadata": {},
   "outputs": [
    {
     "data": {
      "text/plain": [
       "Text(0,0.5,'l2 norm of weights')"
      ]
     },
     "execution_count": 72,
     "metadata": {},
     "output_type": "execute_result"
    }
   ],
   "source": [
    "plt.plot(solver.l2_norms, 'bs', label='LR')\n",
    "plt.plot(l2_solver.l2_norms, 'rs', label='L2 regularized LR')\n",
    "plt.xlabel('num of iterations')\n",
    "plt.ylabel('l2 norm of weights')"
   ]
  },
  {
   "cell_type": "code",
   "execution_count": 73,
   "metadata": {},
   "outputs": [
    {
     "data": {
      "image/png": "[encoded data removed]",
      "text/plain": [
       "<matplotlib.figure.Figure at 0x7f9eb3462860>"
      ]
     },
     "metadata": {},
     "output_type": "display_data"
    }
   ],
   "source": [
    "plt.legend()\n",
    "plt.show()\n"
   ]
  },
  {
   "cell_type": "code",
   "execution_count": null,
   "metadata": {},
   "outputs": [],
   "source": []
  }
 ],
 "metadata": {
  "kernelspec": {
   "display_name": "Python 3",
   "language": "python",
   "name": "python3"
  },
  "language_info": {
   "codemirror_mode": {
    "name": "ipython",
    "version": 3
   },
   "file_extension": ".py",
   "mimetype": "text/x-python",
   "name": "python",
   "nbconvert_exporter": "python",
   "pygments_lexer": "ipython3",
   "version": "3.5.2"
  },
  "toc": {
   "nav_menu": {},
   "number_sections": true,
   "sideBar": true,
   "skip_h1_title": false,
   "toc_cell": false,
   "toc_position": {},
   "toc_section_display": "block",
   "toc_window_display": false
  }
 },
 "nbformat": 4,
 "nbformat_minor": 2
}
